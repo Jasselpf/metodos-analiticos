{
 "metadata": {
  "name": ""
 },
 "nbformat": 3,
 "nbformat_minor": 0,
 "worksheets": [
  {
   "cells": [
    {
     "cell_type": "heading",
     "level": 1,
     "metadata": {},
     "source": [
      "Lecci\u00f3n 8 - Algebra abstracta para procesamiento de datos"
     ]
    },
    {
     "cell_type": "markdown",
     "metadata": {},
     "source": [
      "### Objetivo\n",
      "El objetivo de esta lecci\u00f3n es presentar una introducci\u00f3n a los conceptos de algebra abstracta como herramienta para el procesamiento de datos."
     ]
    },
    {
     "cell_type": "markdown",
     "metadata": {},
     "source": [
      "### Algebra para procesamiento de datos\n",
      "\n",
      "Comencemos por explorar las propiedades algebr\u00e1icas de una operaci\u00f3n com\u00fan como la suma. La suma tiene dos propiedades algebr\u00e1icas que son relevantes para el procesamiento de datos: las sumas son conmutativas y asociativas.\n",
      "\n",
      "* Conmutativa, dada una expresi\u00f3n binaria el resultado de la operaci\u00f3n es el mismo cualquiera que sea el orden de los operandos.\n",
      "\n",
      "$$a + b = b + a$$\n",
      "\n",
      "* Asociativa, dada una expresi\u00f3n con dos o m\u00e1s ocurrencias del mismo operador asociativo, el orden en que se realicen las operaciones no afecta el resultado.\n",
      "\n",
      "$$(a + b) + c = a + (b + c)$$\n",
      "\n",
      "La raz\u00f3n por la que esto es importante es por que si aplicamos la operaci\u00f3n de suma en un sistema distribuido, no importa en que orden (en que m\u00e1quina) se apliquen las sumas siempre y cuando todas las sumas se apliquen eventualmente. "
     ]
    },
    {
     "cell_type": "code",
     "collapsed": false,
     "input": [
      "val a = List(1,2,3,4,5,6)\n",
      "println(a.fold(0)(_ + _))\n",
      "println(a.fold(Int.MinValue)((a,b) => if (a > b) a else b))\n",
      "println(a.fold(Int.MaxValue)((a,b) => if (a < b) a else b))"
     ],
     "language": "python",
     "metadata": {},
     "outputs": [
      {
       "output_type": "stream",
       "stream": "stdout",
       "text": [
        "21\n",
        "6\n",
        "1\n"
       ]
      },
      {
       "output_type": "stream",
       "stream": "stderr",
       "text": []
      }
     ],
     "prompt_number": 23
    },
    {
     "cell_type": "markdown",
     "metadata": {},
     "source": [
      "En este punto es m\u00e1s o menos claro que este principio puede aplicar a otras operaciones, por ejemplo obtener el m\u00e1ximo o el m\u00ednimo de un conjunto de datos, etc.\n",
      "\n",
      "Ahora generalicemos este comportamiento a un objeto abstracto."
     ]
    },
    {
     "cell_type": "code",
     "collapsed": false,
     "input": [
      "trait Monoid[T] {\n",
      " def zero: T\n",
      " def plus(a: T, b: T): T\n",
      "}\n",
      "\n",
      "object IntMax extends Monoid[Int] {\n",
      "    def zero = Int.MinValue\n",
      "    def plus(a: Int,b: Int) = if (a > b) a else b\n",
      "}\n",
      "\n",
      "object IntMin extends Monoid[Int] {\n",
      "    def zero = Int.MaxValue\n",
      "    def plus(a: Int,b: Int) = if (a < b) a else b\n",
      "}\n",
      "\n",
      "object IntSum extends Monoid[Int] {\n",
      "    def zero = 0\n",
      "    def plus(a: Int,b: Int) = (a + b)\n",
      "}\n",
      "\n",
      "object StringSum extends Monoid[String] {\n",
      "    def zero = \"\"\n",
      "    def plus(a: String,b: String) = (a + b)\n",
      "}"
     ],
     "language": "python",
     "metadata": {},
     "outputs": [
      {
       "output_type": "stream",
       "stream": "stdout",
       "text": []
      },
      {
       "output_type": "stream",
       "stream": "stderr",
       "text": []
      },
      {
       "metadata": {},
       "output_type": "pyout",
       "prompt_number": 40,
       "text": [
        "StringSum$@50603807"
       ]
      }
     ],
     "prompt_number": 40
    },
    {
     "cell_type": "code",
     "collapsed": false,
     "input": [
      "def printSum(a:Seq[Int], op: Monoid[Int]) {\n",
      "  println(a.fold(op.zero)(op.plus))\n",
      "}\n",
      "\n",
      "printSum(a, IntMax)\n",
      "printSum(a, IntMin)\n",
      "printSum(a, IntSum)"
     ],
     "language": "python",
     "metadata": {},
     "outputs": [
      {
       "output_type": "stream",
       "stream": "stdout",
       "text": [
        "6\n",
        "1\n",
        "21\n"
       ]
      },
      {
       "output_type": "stream",
       "stream": "stderr",
       "text": []
      }
     ],
     "prompt_number": 51
    },
    {
     "cell_type": "markdown",
     "metadata": {},
     "source": [
      "### Monoides\n",
      "\n",
      "El objeto abstracto que definimos es una representaci\u00f3n de una estructura algebr\u00e1ica conocida como monoide. \n",
      "\n",
      "Un monoide es un conjunto que satisface las siguientes propiedades, dado un conjunto $M$ y una operaci\u00f3n $\\circ$:\n",
      "\n",
      "* $\\forall \\; x,y \\in M$, $x \\circ y \\in M$ (cerradura) \n",
      "* $\\forall \\; x,y,z \\in M$, $(x \\circ y) \\circ z = x \\circ (y \\circ z)$ (asociatividad) \n",
      "* $\\exists \\; e \\in M$ tal que $\\forall \\; x \\in M$, $e \\circ x = x \\circ e$ (identidad) \n",
      "\n",
      "Otra definici\u00f3n comunmente utilizada es que un monoide es un semigrupo (un conjunto con operaci\u00f3n asociativa) con identidad. \n",
      "\n",
      "\n",
      "#### Monoides y computo distribuido\n",
      "\n",
      "En este punto recalcamos la importancia de poder abstraer estas operaciones, si las propiedades algebr\u00e1icas se preservan, se puede implementar un sistema distribuido que aplique las operaciones correctamente sin tener que preocuparse de que operaci\u00f3n se est\u00e1 realizando. \n",
      "\n"
     ]
    },
    {
     "cell_type": "code",
     "collapsed": false,
     "input": [
      "a + 3"
     ],
     "language": "python",
     "metadata": {},
     "outputs": [
      {
       "output_type": "stream",
       "stream": "stdout",
       "text": []
      },
      {
       "output_type": "stream",
       "stream": "stderr",
       "text": []
      },
      {
       "metadata": {},
       "output_type": "pyout",
       "prompt_number": 2,
       "text": [
        "5"
       ]
      }
     ],
     "prompt_number": 2
    },
    {
     "cell_type": "code",
     "collapsed": false,
     "input": [
      "val c = List(1,2,3,4,5,6)"
     ],
     "language": "python",
     "metadata": {},
     "outputs": [
      {
       "output_type": "stream",
       "stream": "stdout",
       "text": []
      },
      {
       "output_type": "stream",
       "stream": "stderr",
       "text": []
      },
      {
       "metadata": {},
       "output_type": "pyout",
       "prompt_number": 5,
       "text": [
        "List(1, 2, 3, 4, 5, 6)"
       ]
      }
     ],
     "prompt_number": 5
    },
    {
     "cell_type": "code",
     "collapsed": false,
     "input": [],
     "language": "python",
     "metadata": {},
     "outputs": []
    }
   ],
   "metadata": {}
  }
 ]
}