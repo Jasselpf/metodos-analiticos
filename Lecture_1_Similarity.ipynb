{
 "metadata": {
  "name": ""
 },
 "nbformat": 3,
 "nbformat_minor": 0,
 "worksheets": [
  {
   "cells": [
    {
     "cell_type": "heading",
     "level": 1,
     "metadata": {},
     "source": [
      "MAT-11020 M\u00e9todos Anal\u00edticos"
     ]
    },
    {
     "cell_type": "markdown",
     "metadata": {},
     "source": [
      "### Objetivo\n",
      "El objetivo de esta lecci\u00f3n es mostrar m\u00e9todos que permitan encontrar vecinos cercanos en un espacio de alta dimensionalidad de forma eficiente.\n",
      "\n",
      "Nota: Esta lecci\u00f3n est\u00e1 basada en el Cap\u00edtulo 3 del libro Mining of Massive Datasets. Rajaraman, Leskovec and Ullman 2012 y en las notas del curso de M\u00e9todos Anal\u00edticos del 2013 por Felipe Gonzalez."
     ]
    },
    {
     "cell_type": "heading",
     "level": 2,
     "metadata": {},
     "source": [
      "Similitud / distancia de Jaccard"
     ]
    },
    {
     "cell_type": "markdown",
     "metadata": {},
     "source": [
      "La similitud de Jaccard de dos conjuntos es el tama\u00f1o de su intersecci\u00f3n dividido entre el tama\u00f1o de su uni\u00f3n.\n",
      "\n",
      "$$Sim(C_1, C_2) = \\frac{||C_1 \\cap C_2 ||}{||C_1 \\cup C_2||}$$\n",
      "\n",
      "_Ejemplo_: \u00bfCu\u00e1l es la similitud de Jaccard entre $C_1 = \\{a, b, d, f, x, y\\}$ y $C_2 = \\{x, z,w, d, a, p\\}$?"
     ]
    },
    {
     "cell_type": "code",
     "collapsed": false,
     "input": [
      "def jaccard(c1, c2):\n",
      "    num = len(c1.intersection(c2))\n",
      "    den = len(c1.union(c2))\n",
      "    return num / float(den)"
     ],
     "language": "python",
     "metadata": {},
     "outputs": [],
     "prompt_number": 48
    },
    {
     "cell_type": "code",
     "collapsed": false,
     "input": [
      "c1 = set(['a','b','d','f','x','y'])\n",
      "c2 = set(['x','z','w','d','a','p'])"
     ],
     "language": "python",
     "metadata": {},
     "outputs": [],
     "prompt_number": 49
    },
    {
     "cell_type": "code",
     "collapsed": false,
     "input": [
      "jaccard(c1,c2)"
     ],
     "language": "python",
     "metadata": {},
     "outputs": [
      {
       "metadata": {},
       "output_type": "pyout",
       "prompt_number": 50,
       "text": [
        "0.3333333333333333"
       ]
      }
     ],
     "prompt_number": 50
    },
    {
     "cell_type": "markdown",
     "metadata": {},
     "source": [
      "La distancia de Jaccard se define como: $dist(C_1, C_2) = 1 - Sim(C_1, C_2)$"
     ]
    },
    {
     "cell_type": "heading",
     "level": 2,
     "metadata": {},
     "source": [
      "Similitud entre documentos"
     ]
    },
    {
     "cell_type": "markdown",
     "metadata": {},
     "source": [
      "Dada una colecci\u00f3n de millones de documentos, encontrar pares que sean _casi duplicados_.\n",
      "\n",
      "* __Primer paso:__ Convertir los documentos en conjuntos (Shingling).\n",
      "* __Segundo paso:__ Derivar firmas que preserven la similitud de cada conjunto (Min-hashing).\n",
      "* __Tercer paso:__ Encontrar los pares de firmas que pueden provenir de documentos similares (Locality Sensitive Hashing)."
     ]
    },
    {
     "cell_type": "heading",
     "level": 3,
     "metadata": {},
     "source": [
      "Shingling"
     ]
    },
    {
     "cell_type": "markdown",
     "metadata": {},
     "source": [
      "Para convertir los documentos en conjuntos vamos partir los documentos en secuencias de caracteres de tama\u00f1o fijo. Estas secuencias son conocidas como _shingles_ o _tejas_. \n",
      "\n",
      "Un _k-shingle_ es una secuencia de _k_ caracteres que aparece en un documento. "
     ]
    },
    {
     "cell_type": "code",
     "collapsed": false,
     "input": [
      "def shingle(string, k):\n",
      "    return [string[i:i + k] for i in xrange(len(string) - (k - 1))]"
     ],
     "language": "python",
     "metadata": {},
     "outputs": [],
     "prompt_number": 156
    },
    {
     "cell_type": "markdown",
     "metadata": {},
     "source": [
      "Nota: La funci\u00f3n `xrange` es equivalente a la funci\u00f3n `range` pero genera los elementos conforme va iterando en lugar de almacenarlos todos de una vez."
     ]
    },
    {
     "cell_type": "code",
     "collapsed": false,
     "input": [
      "print shingle(\"Sabado y Domingo\", 3)"
     ],
     "language": "python",
     "metadata": {},
     "outputs": [
      {
       "output_type": "stream",
       "stream": "stdout",
       "text": [
        "['Sab', 'aba', 'bad', 'ado', 'do ', 'o y', ' y ', 'y D', ' Do', 'Dom', 'omi', 'min', 'ing', 'ngo']\n"
       ]
      }
     ],
     "prompt_number": 157
    },
    {
     "cell_type": "markdown",
     "metadata": {},
     "source": [
      "_Ejemplo_: \u00bfC\u00faal es la similitud de Jaccard entre las siguientes dos cadenas? \"el perro persigue al gato\" y \"el perro\n",
      "persigue al conejo\" usando 5-shingle"
     ]
    },
    {
     "cell_type": "code",
     "collapsed": false,
     "input": [
      "s1 = shingle('el perro persigue al gato', 5)\n",
      "s2 = shingle('el perro persigue al conejo', 5)\n",
      "jaccard(set(s1), set(s2))"
     ],
     "language": "python",
     "metadata": {},
     "outputs": [
      {
       "metadata": {},
       "output_type": "pyout",
       "prompt_number": 158,
       "text": [
        "0.6296296296296297"
       ]
      }
     ],
     "prompt_number": 158
    },
    {
     "cell_type": "markdown",
     "metadata": {},
     "source": [
      "#### Razonamiento\n",
      "\n",
      "* Los documentos que tienen muchas tejas en com\u00fan, contienen texto similar; independientemente de que el texto aparezca en distinto orden.\n",
      "* Es importante elegir una `k` grande de otra forma todos los documentos contendr\u00e1n todas las tejas.\n",
      "* `k = 5` es razonable para documentos chicos, `k = 10` es mejor para documentos grandes.\n",
      "\n",
      "#### Optimizaci\u00f3n\n",
      "\n",
      "Es posible reducir los requerimientos de memoria, si a cada teja le aplicamos una funci\u00f3n hash que la transforme a entero.\n",
      "\n",
      "##### Ejercicio\n",
      "\n",
      "Re-implementa la funci\u00f3n `shingle` para que represente cada teja como un entero. Y comprueba que la similitud entre las dos frases es aproximadamente la misma.\n"
     ]
    },
    {
     "cell_type": "code",
     "collapsed": false,
     "input": [],
     "language": "python",
     "metadata": {},
     "outputs": [],
     "prompt_number": 53
    },
    {
     "cell_type": "heading",
     "level": 3,
     "metadata": {},
     "source": [
      "Min-Hashing"
     ]
    },
    {
     "cell_type": "markdown",
     "metadata": {},
     "source": [
      "El m\u00e9todo anterior nos permite comparar la similitud entre un par de documentos. Sin embargo, calcular la similitud por pares para una colecci\u00f3n de millones de documentos no es viable. Para solucionar este problema vamos a derivar firmas peque\u00f1as o res\u00famenes de cada conjunto, que preserven la similitud y nos permitan comparar los documentos por _buckets_ o _cubetas_.\n",
      "\n",
      "#### Matriz caracter\u00edstica\n",
      "\n",
      "Empecemos por definir una representaci\u00f3n alternativa donde cada conjunto corresponde un vector en una matr\u00edz booleana de _tejas-documento_, donde los renglones corresponenden a las tejas y las columnas a los conjuntos. Por ejemplo:\n",
      "\n",
      "<table>\n",
      "<tr><th></th><th>$d_1$</th><th>$d_2$</th><th>$d_3$</th></tr>\n",
      "<tr><td>a</td><td>0</td><td>1</td><td>1</td></tr>\n",
      "<tr><td>b</td><td>1</td><td>0</td><td>0</td></tr>\n",
      "<tr><td>c</td><td>1</td><td>1</td><td>0</td></tr>\n",
      "<tr><td>d</td><td>0</td><td>0</td><td>1</td></tr>\n",
      "<tr><td>e</td><td>1</td><td>1</td><td>1</td></tr>\n",
      "<tr><td>f</td><td>0</td><td>1</td><td>1</td></tr>\n",
      "</table>\n",
      "\n",
      "En la representaci\u00f3n por columnas la similitud de Jaccard es equivalente ya que: \n",
      "\n",
      "$$||C_1 \\cap C_2|| = \\text{n\u00famero de renglones en que ambas entradas son 1}$$\n",
      "$$||C_1 \\cup C_2|| = \\text{n\u00famero de renglones en que al menos una entrada es 1}$$\n",
      "\n",
      "Es decir el n\u00famero de elementos que ambos conjuntos tienen en com\u00fan, entre el n\u00famero total de elementos \u00fanicos en ambos conjuntos.\n",
      "\n",
      "En el ejemplo anterior la similitud de Jaccard es $Sim(d_1, d_2) = \\frac{2}{5} = 0.4$, $Sim(d_2, d_3) = \\frac{3}{5} = 0.6$ y $Sim(d_1, d_3) = \\frac{1}{6} = 0.167$\n",
      "\n",
      "#### Hashes\n",
      "\n",
      "A fin de comparar las columnas generamos hashes $h(C)$, que cumplan con 1) $h(C)$ es suficientemente peque\u00f1a para almacenarse en memoria, 2) $h(C)$ preserva la proporci\u00f3n de la similitud, es decir que si $Sim(C_1, C_2)$ es alta, entonces la probabilidad de que $h(C_1) = h(C_2))$ es alta.\n",
      "\n",
      "Una funci\u00f3n de hashing que preserva la similitud de Jaccard es la funci\u00f3n _Min-Hashing_, definida como:\n",
      "\n",
      "* Dada una permutaci\u00f3n aleatoria $\\pi$ de los renglones de la matriz caracter\u00edstica\n",
      "* Se define el \"minhash\" de una columna $h(C)$, como la primera posici\u00f3n en la que $C$ contiene 1.\n",
      "\n",
      "Para el ejemplo anterior, dada la permutaci\u00f3n $\\pi = [b,e,a,c,f,d]$ tenemos los minhashes, $h(d_1) = b$, $h(d_2) = e$ y  $h(d_3) = e$:\n",
      "\n",
      "<table>\n",
      "<tr><th></th><th>$d_1$</th><th>$d_2$</th><th>$d_3$</th></tr>\n",
      "<tr><td>b</td><td>1</td><td>0</td><td>0</td></tr>\n",
      "<tr><td>e</td><td>1</td><td>1</td><td>1</td></tr>\n",
      "<tr><td>a</td><td>0</td><td>1</td><td>1</td></tr>\n",
      "<tr><td>c</td><td>1</td><td>1</td><td>0</td></tr>\n",
      "<tr><td>f</td><td>0</td><td>1</td><td>1</td></tr>\n",
      "<tr><td>d</td><td>0</td><td>0</td><td>1</td></tr>\n",
      "</table>\n",
      "\n",
      "\u00bfCu\u00e1les ser\u00edan los minhashes para $d_1$, $d_2$ y $d_3$ dado $\\pi = [c,d,a,f,b,e]$?\n"
     ]
    },
    {
     "cell_type": "code",
     "collapsed": false,
     "input": [],
     "language": "python",
     "metadata": {},
     "outputs": [],
     "prompt_number": 53
    },
    {
     "cell_type": "markdown",
     "metadata": {},
     "source": [
      "#### \u00bfC\u00f3mo es que la funci\u00f3n minhash preserva la similitud?\n",
      "\n",
      "La idea central del m\u00e9todo de Min-hashing es que dada una permutaci\u00f3n aleatoria de renglones, la probabilidad de que la funci\u00f3n minhash produzca el mismo valor para dos conjuntos es igual a la similitud de Jaccard para esos dos conjuntos. \n",
      "\n",
      "$$Pr[h(C_1) = h(C_2)] = Sim(C_1, C_2)$$\n",
      "\n",
      "La intuici\u00f3n detr\u00e1s de este m\u00e9todo es que al permutar los renglones de los conjuntos, aquellos conjuntos que sean similares tendr\u00e1n entradas con 1 en las mismas posiciones.\n",
      " \n",
      "Para mostrar lo anterior ejemplifiquemos para el caso de dos columnas, cada rengl\u00f3n puede ser de uno de los siguientes tipos:\n",
      "\n",
      "* Tipo A, las dos columnas contienen 1\n",
      "* Tipo B, una de las columnas contiene 1 y la otra 0\n",
      "* Tipo C, las dos columnas contienen 0\n",
      "\n",
      "Recordemos de la secci\u00f3n anterior que la similitud de Jaccard es equivalente a $Sim(C_1, C_2) = \\frac{a}{a + b}$, donde $a$ y $b$ representan el n\u00famero de renglones de tipo A y B respectivamente. \n",
      "\n",
      "Para el caso de Min-hashing, sabemos que el total de renglones que contienen al menos un 1 es $a + b$ y que el n\u00famero de renglones en que ambas columnas contienen 1 es $a$, si procedemos de arriba a abajo podemos ver que la probabilidad de que observemos un rengl\u00f3n de tipo A antes de uno de tipo B es $\\frac{a}{a + b}$, por lo tanto $Pr[h(C_1) = h(C_2)] = Sim(C_1, C_2)$. Nota: los renglones de tipo C no son tomados en cuenta ya que no afectan el calculo de $h(C)$. \n",
      "\n",
      "#### Resumen de una columna\n",
      "\n",
      "Es importante considerar que al aplicar una sola permutaci\u00f3n a cada columna es posible obtener tanto falsos negativos como falsos positivos. En el ejemplo anterior consideremos que la permutaci\u00f3n fuera $\\pi = [c,d,a,f,b,e]$ los minhashes de las columnas ser\u00edan $h(d_1) = c$, $h(d_2) = c$ y  $h(d_3) = d$, a\u00fan cuando sabemos que la similitud de Jaccard en mayor entre $d_2$ y $d_3$ que entre $d_1$ y $d_2$.\n",
      "\n",
      "Es posible generar un resumen o _sketch_ que permita aproximar la similitud entre columnas aplicando la funci\u00f3n Min-hash para $n$ distintas permutaciones (en general $n = 100$ es un buen n\u00famero). Por la ley de los grandes n\u00fameros, la fracci\u00f3n de permutaciones en las que coinciden las funciones hash, aproxima adecuadamente la similitud de Jaccard.\n",
      "\n",
      "$$Sim(C_1, C_2) \\approx \\frac{1}{n}\\sum_{x=1}^n{I(h(C_1) = h(C_2))}$$\n",
      "\n",
      "Es importante notar que para $n=100$ e incluso $n=1000$ se genera un espacio mucho menor que la cardinalidad de la union de los conjuntos originales.\n",
      "\n",
      "\u00bfCu\u00e1l ser\u00eda la similitud aproximada utilizando los res\u00famenes dados $\\pi = [b,e,a,c,f,d]$, $\\pi = [c,d,a,f,b,e]$ y $\\pi = [e,f,c,b,d,a]$?"
     ]
    },
    {
     "cell_type": "code",
     "collapsed": false,
     "input": [],
     "language": "python",
     "metadata": {},
     "outputs": [],
     "prompt_number": 53
    },
    {
     "cell_type": "markdown",
     "metadata": {},
     "source": [
      "#### Implementaci\u00f3n\n",
      "\n",
      "En t\u00e9rminos pr\u00e1cticos implementar la permutaci\u00f3n aleatoria de la matriz caracter\u00edstica de millones de documentos es muy costoso. Una alternativa eficiente que genera resultados equivalentes es utilizar $K$ funciones hash distintas que simulen el orden de los renglones para cada permutaci\u00f3n a partir de los valores m\u00ednimos en cada columna.\n",
      "\n",
      "Esto es, aplicar cada una de las funciones hash $k_i$ a los elementos del conjunto $C$ y determinar cual es el valor m\u00ednimo de $k_i(C)$. Bajo el principio anteriormente descrito si dos columnas son similares, los valores m\u00ednimos bajo diferentes funciones hash (sus minhashes) tender\u00e1n a ser similares, y por tanto la similitud de Jaccard entre sus res\u00famenes ser\u00e1 una buena aproximaci\u00f3n a la similitud de Jaccard de las columnas originales. \n",
      "\n",
      "Referencias: [A. Broder'97 Syntactic Clustering of the Web](http://gatekeeper.dec.com/ftp/pub/dec/SRC/publications/broder/positano-final-wpnums.pdf) "
     ]
    },
    {
     "cell_type": "code",
     "collapsed": false,
     "input": [
      "import hashlib\n",
      "import random\n",
      "import pyhash\n",
      "import sys\n",
      "\n",
      "K = 100\n",
      "rnd = random.Random(11)\n",
      "seeds = [rnd.randint(0,100000) for _ in range(K)]\n",
      "hasher = pyhash.murmur3_32()\n",
      "\n",
      "def signature(col):\n",
      "    minhashes = [sys.maxint] * K\n",
      "    for i in range(K):\n",
      "        hashes = [hasher(_, seed=seeds[i]) for _ in col]\n",
      "        minhashes[i] = min(hashes)\n",
      "    return minhashes"
     ],
     "language": "python",
     "metadata": {},
     "outputs": [],
     "prompt_number": 152
    },
    {
     "cell_type": "markdown",
     "metadata": {},
     "source": [
      "Supongamos que tenemos una base de datos de documentos y queremos conocer, dado un nuevo documento si existe uno similar en la base de datos.\n",
      "\n",
      "A manera de ejemplo tenemos una peque\u00f1a base de datos se compone de cuatro frases, a las cuales aplicamos el proceso arriba descrito:"
     ]
    },
    {
     "cell_type": "code",
     "collapsed": false,
     "input": [
      "cols = ['el perro persigue al gato', 'el gato persigue al perro', 'la vaca come pasto', 'el perro ladra']\n",
      "# Generar las tejas\n",
      "shingled = [shingle(_, 5) for _ in cols]\n",
      "# Calcular la matriz de res\u00famenes\n",
      "signatures = [signature(col) for col in shingled]"
     ],
     "language": "python",
     "metadata": {},
     "outputs": [],
     "prompt_number": 153
    },
    {
     "cell_type": "markdown",
     "metadata": {},
     "source": [
      "Cuando queremos comparar un nuevo documento podr\u00edamos comparar contra las tejas originales almacenadas en memoria (por ser un conjunto peque\u00f1o)"
     ]
    },
    {
     "cell_type": "code",
     "collapsed": false,
     "input": [
      "s = shingle('el perro persigue al conejo', 5)\n",
      "[jaccard(set(s),set(_)) for _ in shingled]"
     ],
     "language": "python",
     "metadata": {},
     "outputs": [
      {
       "metadata": {},
       "output_type": "pyout",
       "prompt_number": 159,
       "text": [
        "[0.6296296296296297, 0.41935483870967744, 0.0, 0.17857142857142858]"
       ]
      }
     ],
     "prompt_number": 159
    },
    {
     "cell_type": "markdown",
     "metadata": {},
     "source": [
      "En una aplicaci\u00f3n mas realista utilizamos la matriz de res\u00famenes obteniendo resultados equivalentes."
     ]
    },
    {
     "cell_type": "code",
     "collapsed": false,
     "input": [
      "[jaccard(set(signature(s)),set(_)) for _ in signatures]"
     ],
     "language": "python",
     "metadata": {},
     "outputs": [
      {
       "metadata": {},
       "output_type": "pyout",
       "prompt_number": 161,
       "text": [
        "[0.47058823529411764, 0.2987012987012987, 0.0, 0.10497237569060773]"
       ]
      }
     ],
     "prompt_number": 161
    },
    {
     "cell_type": "markdown",
     "metadata": {},
     "source": [
      "\u00bfPor qu\u00e9 cuando la similitud de Jaccard entre dos columnas es cero, _min-hashing_ da siempre una estimaci\u00f3n correcta?"
     ]
    },
    {
     "cell_type": "code",
     "collapsed": false,
     "input": [],
     "language": "python",
     "metadata": {},
     "outputs": []
    },
    {
     "cell_type": "heading",
     "level": 3,
     "metadata": {},
     "source": [
      "Locality Sensitive Hashing"
     ]
    },
    {
     "cell_type": "markdown",
     "metadata": {},
     "source": [
      "No obstante "
     ]
    }
   ],
   "metadata": {}
  }
 ]
}